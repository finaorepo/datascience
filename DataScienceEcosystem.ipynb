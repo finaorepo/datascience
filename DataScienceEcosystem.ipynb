{
 "cells": [
  {
   "cell_type": "markdown",
   "id": "cc7b774d-6e3f-47a8-ba85-13c3ff4ad833",
   "metadata": {
    "tags": []
   },
   "source": [
    "Some of the popular languages that Data Scientists use are:\n",
    "- Python\n",
    "- R\n",
    "- Julia\n",
    "- SQL"
   ]
  },
  {
   "cell_type": "markdown",
   "id": "c43e19a1-f513-471e-90e3-169f87b7bd6b",
   "metadata": {},
   "source": [
    "Some of the commonly used libraries used by Data Scientists include:\n",
    "- Tensor Flow\n",
    "- Karas\n",
    "- PyTorch\n",
    "- SciKit Learn"
   ]
  },
  {
   "cell_type": "code",
   "execution_count": null,
   "id": "c2c5df43-bc09-4e86-a9e2-86852b186b3c",
   "metadata": {},
   "outputs": [],
   "source": []
  },
  {
   "cell_type": "markdown",
   "id": "1d5afd96-1830-4b25-9ecc-2991204c77cf",
   "metadata": {},
   "source": [
    "| Data Science Tools |\n",
    "| -------------|\n",
    "| Spark |\n",
    "| Jupyter |\n",
    "| Hadoop |"
   ]
  },
  {
   "cell_type": "markdown",
   "id": "427dbbbd-eaf6-4bea-8b9a-eef5424962a2",
   "metadata": {},
   "source": [
    "### Below are a few examples of evaluating arithmetic expressions in Python"
   ]
  },
  {
   "cell_type": "code",
   "execution_count": 1,
   "id": "2b9fcb38-674f-4dea-bf89-25c23a41ed66",
   "metadata": {
    "tags": []
   },
   "outputs": [
    {
     "data": {
      "text/plain": [
       "17"
      ]
     },
     "execution_count": 1,
     "metadata": {},
     "output_type": "execute_result"
    }
   ],
   "source": [
    "# This a simple arithmetic expression to mutiply then add integers\n",
    "(3*4)+5"
   ]
  },
  {
   "cell_type": "code",
   "execution_count": 3,
   "id": "1d7bd812-f9ab-4747-9e6b-f22f3cf317f2",
   "metadata": {
    "tags": []
   },
   "outputs": [
    {
     "data": {
      "text/plain": [
       "3.3333333333333335"
      ]
     },
     "execution_count": 3,
     "metadata": {},
     "output_type": "execute_result"
    }
   ],
   "source": [
    "200 / 60\n",
    "# This will convert 200 minutes to hours by diving by 60"
   ]
  },
  {
   "cell_type": "markdown",
   "id": "09cdc07e-593b-4527-a50f-214c7489259e",
   "metadata": {},
   "source": [
    "__Objectives:__\n",
    "- List popular languages for Data Science\n",
    "- List popular tools for Data Science \n",
    "- List popular libraries for Data Science "
   ]
  },
  {
   "cell_type": "markdown",
   "id": "5292fe9a-86cb-4748-bf41-f5abd8522a9b",
   "metadata": {},
   "source": [
    "## Author\n",
    "Sampath Kondam"
   ]
  },
  {
   "cell_type": "code",
   "execution_count": null,
   "id": "42cef462-4744-4f0d-8cec-c22daac1e83e",
   "metadata": {},
   "outputs": [],
   "source": []
  }
 ],
 "metadata": {
  "kernelspec": {
   "display_name": "Python",
   "language": "python",
   "name": "conda-env-python-py"
  },
  "language_info": {
   "codemirror_mode": {
    "name": "ipython",
    "version": 3
   },
   "file_extension": ".py",
   "mimetype": "text/x-python",
   "name": "python",
   "nbconvert_exporter": "python",
   "pygments_lexer": "ipython3",
   "version": "3.7.12"
  }
 },
 "nbformat": 4,
 "nbformat_minor": 5
}
